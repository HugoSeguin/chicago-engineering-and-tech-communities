{
 "cells": [
  {
   "metadata": {},
   "cell_type": "code",
   "source": [
    "import pandas as pd\n",
    "from meetup import get_meetup_events\n",
    "from mhub import get_mhub_events\n",
    "from luma import get_luma_group_events\n",
    "from common import upload_to_gsheets, get_gsheet_df, create_event_markdown\n",
    "\n",
    "\n",
    "# TODO: Get 1871 Events\n",
    "# TODO: Get lu.ma users Events \n",
    "# TODO: Get Eventbrite Events\n",
    "# TODO: Figure out the list of others that need to be scraped\n",
    "# TODO: Figure out a way to make this format nicely for pasting into slack/discord\n",
    "# TODO: Make a website/calendar"
   ],
   "id": "3a3656e853ca9c64",
   "outputs": [],
   "execution_count": null
  },
  {
   "metadata": {},
   "cell_type": "code",
   "source": "organization_df = get_gsheet_df(\"Organizations\")",
   "id": "e27df25c8ddb1ca1",
   "outputs": [],
   "execution_count": null
  },
  {
   "metadata": {},
   "cell_type": "code",
   "source": [
    "meetup_groups = organization_df['Meetup'].tolist()\n",
    "meetup_groups = list(set([x for x in meetup_groups if len(x) > 0]))\n",
    "\n",
    "luma_groups = organization_df['LuMa'].tolist()\n",
    "luma_groups = list(set([x for x in luma_groups if len(x) > 0]))"
   ],
   "id": "9073c060a810a60e",
   "outputs": [],
   "execution_count": null
  },
  {
   "metadata": {},
   "cell_type": "code",
   "source": [
    "meetup_df = get_meetup_events(meetup_groups, sleep_time=2, verbose=True, debug=True)\n",
    "mhub_df = get_mhub_events()\n",
    "luma_df = get_luma_group_events(luma_groups, sleep_time=1, verbose=False, debug=True)"
   ],
   "id": "ab3ddecce4e50243",
   "outputs": [],
   "execution_count": null
  },
  {
   "metadata": {},
   "cell_type": "code",
   "source": [
    "# combine the dataframes\n",
    "combined_df = pd.concat([meetup_df, mhub_df, luma_df], ignore_index=True)\n",
    "# combined_df = pd.concat([mhub_df, luma_df], ignore_index=True)\n",
    "combined_df"
   ],
   "id": "23d443fe09c74861",
   "outputs": [],
   "execution_count": null
  },
  {
   "metadata": {},
   "cell_type": "code",
   "source": "upload_to_gsheets(combined_df, ['eventURL'], verbose=True)",
   "id": "2d03f2526c06168e",
   "outputs": [],
   "execution_count": null
  },
  {
   "metadata": {},
   "cell_type": "code",
   "source": [
    "events_df = get_gsheet_df(\"Events\")\n",
    "\n",
    "create_event_markdown(events_df)"
   ],
   "id": "7e6b48e7a8888008",
   "outputs": [],
   "execution_count": null
  },
  {
   "metadata": {},
   "cell_type": "code",
   "source": "",
   "id": "73540e38585ba48a",
   "outputs": [],
   "execution_count": null
  }
 ],
 "metadata": {
  "kernelspec": {
   "display_name": "Python 3",
   "language": "python",
   "name": "python3"
  },
  "language_info": {
   "codemirror_mode": {
    "name": "ipython",
    "version": 2
   },
   "file_extension": ".py",
   "mimetype": "text/x-python",
   "name": "python",
   "nbconvert_exporter": "python",
   "pygments_lexer": "ipython2",
   "version": "2.7.6"
  }
 },
 "nbformat": 4,
 "nbformat_minor": 5
}
